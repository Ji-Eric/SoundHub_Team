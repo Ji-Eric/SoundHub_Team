{
 "cells": [
  {
   "cell_type": "code",
   "execution_count": 1,
   "id": "ec4415fa-f8c4-48e2-8ea5-f3a6223ef716",
   "metadata": {},
   "outputs": [
    {
     "name": "stdout",
     "output_type": "stream",
     "text": [
      "hello\n"
     ]
    }
   ],
   "source": [
    "import os\n",
    "import glob\n",
    "import pandas as pd\n",
    "import numpy as np\n",
    "import random\n",
    "import torch\n",
    "\n",
    "from sklearn.metrics import roc_auc_score\n",
    "from opensoundscape.ml import bioacoustics_model_zoo as bmz\n",
    "from opensoundscape.ml.shallow_classifier import quick_fit"
   ]
  },
  {
   "cell_type": "code",
   "execution_count": 2,
   "id": "70dde2d1-f996-4483-89bf-0eef24c76039",
   "metadata": {},
   "outputs": [
    {
     "ename": "ModuleNotFoundError",
     "evalue": "No module named 'opensoundscape'",
     "output_type": "error",
     "traceback": [
      "\u001b[0;31m---------------------------------------------------------------------------\u001b[0m",
      "\u001b[0;31mModuleNotFoundError\u001b[0m                       Traceback (most recent call last)",
      "Cell \u001b[0;32mIn[2], line 11\u001b[0m\n\u001b[1;32m      9\u001b[0m \u001b[38;5;28;01mfrom\u001b[39;00m \u001b[38;5;21;01msklearn\u001b[39;00m\u001b[38;5;21;01m.\u001b[39;00m\u001b[38;5;21;01mmetrics\u001b[39;00m \u001b[38;5;28;01mimport\u001b[39;00m roc_auc_score\n\u001b[1;32m     10\u001b[0m \u001b[38;5;28;01mfrom\u001b[39;00m \u001b[38;5;21;01msklearn\u001b[39;00m\u001b[38;5;21;01m.\u001b[39;00m\u001b[38;5;21;01mmodel_selection\u001b[39;00m \u001b[38;5;28;01mimport\u001b[39;00m KFold\n\u001b[0;32m---> 11\u001b[0m \u001b[38;5;28;01mimport\u001b[39;00m \u001b[38;5;21;01mbioacoustics_model_zoo\u001b[39;00m \u001b[38;5;28;01mas\u001b[39;00m \u001b[38;5;21;01mbmz\u001b[39;00m\n\u001b[1;32m     12\u001b[0m  \u001b[38;5;66;03m# Assuming this is the BirdNET model package\u001b[39;00m\n\u001b[1;32m     13\u001b[0m \u001b[38;5;28;01mimport\u001b[39;00m \u001b[38;5;21;01mos\u001b[39;00m\n",
      "File \u001b[0;32m/opt/anaconda3/lib/python3.11/site-packages/bioacoustics_model_zoo/__init__.py:2\u001b[0m\n\u001b[1;32m      1\u001b[0m \u001b[38;5;28;01mimport\u001b[39;00m \u001b[38;5;21;01mtorch\u001b[39;00m\n\u001b[0;32m----> 2\u001b[0m \u001b[38;5;28;01mfrom\u001b[39;00m \u001b[38;5;21;01mbioacoustics_model_zoo\u001b[39;00m \u001b[38;5;28;01mimport\u001b[39;00m utils\n\u001b[1;32m      3\u001b[0m \u001b[38;5;28;01mfrom\u001b[39;00m \u001b[38;5;21;01mbioacoustics_model_zoo\u001b[39;00m\u001b[38;5;21;01m.\u001b[39;00m\u001b[38;5;21;01mutils\u001b[39;00m \u001b[38;5;28;01mimport\u001b[39;00m register_bmz_model\n\u001b[1;32m      5\u001b[0m \u001b[38;5;66;03m# handle optional dependencies\u001b[39;00m\n",
      "File \u001b[0;32m/opt/anaconda3/lib/python3.11/site-packages/bioacoustics_model_zoo/utils.py:2\u001b[0m\n\u001b[1;32m      1\u001b[0m \u001b[38;5;28;01mimport\u001b[39;00m \u001b[38;5;21;01mrequests\u001b[39;00m\n\u001b[0;32m----> 2\u001b[0m \u001b[38;5;28;01mfrom\u001b[39;00m \u001b[38;5;21;01mopensoundscape\u001b[39;00m\u001b[38;5;21;01m.\u001b[39;00m\u001b[38;5;21;01mml\u001b[39;00m\u001b[38;5;21;01m.\u001b[39;00m\u001b[38;5;21;01mdataloaders\u001b[39;00m \u001b[38;5;28;01mimport\u001b[39;00m SafeAudioDataloader\n\u001b[1;32m      3\u001b[0m \u001b[38;5;28;01mimport\u001b[39;00m \u001b[38;5;21;01mnumpy\u001b[39;00m \u001b[38;5;28;01mas\u001b[39;00m \u001b[38;5;21;01mnp\u001b[39;00m\n\u001b[1;32m      4\u001b[0m \u001b[38;5;28;01mfrom\u001b[39;00m \u001b[38;5;21;01mpathlib\u001b[39;00m \u001b[38;5;28;01mimport\u001b[39;00m Path\n",
      "\u001b[0;31mModuleNotFoundError\u001b[0m: No module named 'opensoundscape'"
     ]
    }
   ],
   "source": [
    "# Haven't Ran yet need packages\n",
    "# need Module Open SoundScape\n",
    "\n",
    "# Use maximum cpu's for your device\n",
    "num_workers = os.cpu_count() * 3 // 4 # Use 75% of cores\n",
    "print(f\"CPU CORES: {num_workers}\")\n",
    "\n",
    "\n",
    "\n",
    "model = bmz.load('BirdNET') #or bmz.load('Perch')\n",
    "\n",
    "fold_num = 5 # How many folds\n",
    "kf = KFold(n_splits=fold_num, shuffle=True, random_state=8)\n",
    "\n",
    "ROC_AUC_scores = []\n",
    "\n",
    "for fold_idx, (train_idx, test_idx) in enumerate(kf.split(labels)):\n",
    "    \n",
    "    labels_train = labels.iloc[train_idx] \n",
    "    labels_val = labels.iloc[test_idx]\n",
    "\n",
    "    emb_train = model.embed(labels_train, return_dfs=False, batch_size=4, num_workers=num_workers) # Made Batch Size Smaller, 128 processes everything at once\n",
    "    emb_val = model.embed(labels_val, return_dfs=False, batch_size=4, num_workers=num_workers)\n",
    "    \n",
    "    classes = ['A']\n",
    "    birdnet.change_classes(classes) \n",
    "    \n",
    "    # fit the classification head with embeddings and labels\n",
    "    birdnet.network.fit(emb_train, labels_train.values, emb_val, labels_val.values)\n",
    "\n",
    "    # make predictions by passing the embeddings through the classifier\n",
    "    preds = birdnet.network(torch.tensor(emb_val)).detach()\n",
    "    \n",
    "    # calculate the area under the ROC score\n",
    "    # Scikit-Learn uses Mann-Whitney U test for ROC-AUC score\n",
    "    curr_score = roc_auc_score(labels_val.values, preds, average=None) \n",
    "    ROC_AUC_score.append(curr_score)\n",
    "    \n",
    "    \n",
    "\n",
    "    preds = preds.detach().numpy()\n",
    "    plt.hist(preds[labels_val==True], bins=20,alpha=0.5, label='positives')\n",
    "    plt.hist(preds[labels_val==False], bins=20,alpha=0.5, label='negatives')\n",
    "    plt.title(f\"Fold {fold_idx}\")\n",
    "    plt.legend()\n",
    "    \n",
    "    print('---------------------------')\n",
    "    print(f\"Current Fold: {fold_idx}\")\n",
    "    print(f\"ROC AUC Score: {curr_score}\")"
   ]
  }
 ],
 "metadata": {
  "kernelspec": {
   "display_name": "Python 3 (ipykernel)",
   "language": "python",
   "name": "python3"
  },
  "language_info": {
   "codemirror_mode": {
    "name": "ipython",
    "version": 3
   },
   "file_extension": ".py",
   "mimetype": "text/x-python",
   "name": "python",
   "nbconvert_exporter": "python",
   "pygments_lexer": "ipython3",
   "version": "3.11.8"
  }
 },
 "nbformat": 4,
 "nbformat_minor": 5
}
