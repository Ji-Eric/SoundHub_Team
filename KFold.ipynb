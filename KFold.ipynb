{
 "cells": [
  {
   "cell_type": "code",
   "execution_count": 29,
   "id": "ec4415fa-f8c4-48e2-8ea5-f3a6223ef716",
   "metadata": {},
   "outputs": [],
   "source": [
    "import os\n",
    "import glob\n",
    "import pandas as pd\n",
    "import numpy as np\n",
    "import random\n",
    "import torch\n",
    "import matplotlib.pyplot as plt\n",
    "\n",
    "from sklearn.metrics import roc_auc_score\n",
    "from sklearn.model_selection import StratifiedKFold\n",
    "\n",
    "# import bioacoustics_model_zoo as bmz"
   ]
  },
  {
   "cell_type": "code",
   "execution_count": 4,
   "id": "6b5d0189-dce2-4ffe-bde8-8659ae50babc",
   "metadata": {},
   "outputs": [
    {
     "name": "stdout",
     "output_type": "stream",
     "text": [
      "CPU CORES: 9\n"
     ]
    },
    {
     "ename": "NameError",
     "evalue": "name 'bmz' is not defined",
     "output_type": "error",
     "traceback": [
      "\u001b[0;31m---------------------------------------------------------------------------\u001b[0m",
      "\u001b[0;31mNameError\u001b[0m                                 Traceback (most recent call last)",
      "Cell \u001b[0;32mIn[4], line 5\u001b[0m\n\u001b[1;32m      2\u001b[0m num_workers \u001b[38;5;241m=\u001b[39m os\u001b[38;5;241m.\u001b[39mcpu_count() \u001b[38;5;241m*\u001b[39m \u001b[38;5;241m3\u001b[39m \u001b[38;5;241m/\u001b[39m\u001b[38;5;241m/\u001b[39m \u001b[38;5;241m4\u001b[39m  \u001b[38;5;66;03m# Use 75% of cores\u001b[39;00m\n\u001b[1;32m      3\u001b[0m \u001b[38;5;28mprint\u001b[39m(\u001b[38;5;124mf\u001b[39m\u001b[38;5;124m\"\u001b[39m\u001b[38;5;124mCPU CORES: \u001b[39m\u001b[38;5;132;01m{\u001b[39;00mnum_workers\u001b[38;5;132;01m}\u001b[39;00m\u001b[38;5;124m\"\u001b[39m)\n\u001b[0;32m----> 5\u001b[0m model \u001b[38;5;241m=\u001b[39m bmz\u001b[38;5;241m.\u001b[39mload(\u001b[38;5;124m'\u001b[39m\u001b[38;5;124mBirdNET\u001b[39m\u001b[38;5;124m'\u001b[39m)  \u001b[38;5;66;03m# or bmz.load('Perch')\u001b[39;00m\n\u001b[1;32m      7\u001b[0m fold_num \u001b[38;5;241m=\u001b[39m \u001b[38;5;241m5\u001b[39m  \u001b[38;5;66;03m# How many folds\u001b[39;00m\n\u001b[1;32m      8\u001b[0m kf \u001b[38;5;241m=\u001b[39m StratifiedKFold(n_splits\u001b[38;5;241m=\u001b[39mfold_num, shuffle\u001b[38;5;241m=\u001b[39m\u001b[38;5;28;01mTrue\u001b[39;00m, random_state\u001b[38;5;241m=\u001b[39m\u001b[38;5;241m8\u001b[39m)\n",
      "\u001b[0;31mNameError\u001b[0m: name 'bmz' is not defined"
     ]
    }
   ],
   "source": [
    "# Stratified Verison\n",
    "\n",
    "# Use maximum CPUs for your device\n",
    "num_workers = os.cpu_count() * 3 // 4  # Use 75% of cores\n",
    "print(f\"CPU CORES: {num_workers}\")\n",
    "\n",
    "model = bmz.load('BirdNET')  # or bmz.load('Perch')\n",
    "\n",
    "fold_num = 5  # How many folds\n",
    "skf = StratifiedKFold(n_splits=fold_num, shuffle=True, random_state=8)\n",
    "\n",
    "ROC_AUC_scores = []\n",
    "\n",
    "for fold_idx, (train_idx, test_idx) in enumerate(skf.split(labels, labels)):  # StratifiedKFold needs labels for stratification\n",
    "    labels_train = labels.iloc[train_idx]\n",
    "    labels_val = labels.iloc[test_idx]\n",
    "\n",
    "    emb_train = model.embed(labels_train, return_dfs=False, batch_size=4, num_workers=num_workers)  # Made Batch Size Smaller\n",
    "    emb_val = model.embed(labels_val, return_dfs=False, batch_size=4, num_workers=num_workers)\n",
    "    \n",
    "    classes = ['A']\n",
    "    birdnet.change_classes(classes)\n",
    "    \n",
    "    # Fit the classification head with embeddings and labels\n",
    "    birdnet.network.fit(emb_train, labels_train.values, emb_val, labels_val.values)\n",
    "\n",
    "    # Make predictions by passing the embeddings through the classifier\n",
    "    preds = birdnet.network(torch.tensor(emb_val)).detach()\n",
    "    \n",
    "    # Calculate the area under the ROC score\n",
    "    curr_score = roc_auc_score(labels_val.values, preds, average=None) \n",
    "    ROC_AUC_scores.append(curr_score)\n",
    "    \n",
    "    preds = preds.detach().numpy()\n",
    "    plt.hist(preds[labels_val == True], bins=20, alpha=0.5, label='positives')\n",
    "    plt.hist(preds[labels_val == False], bins=20, alpha=0.5, label='negatives')\n",
    "    plt.title(f\"Fold {fold_idx}\")\n",
    "    plt.legend()\n",
    "    \n",
    "    print('---------------------------')\n",
    "    print(f\"Current Fold: {fold_idx}\")\n",
    "    print(f\"ROC AUC Score: {curr_score}\")\n"
   ]
  },
  {
   "cell_type": "code",
   "execution_count": 21,
   "id": "70dde2d1-f996-4483-89bf-0eef24c76039",
   "metadata": {},
   "outputs": [
    {
     "name": "stdout",
     "output_type": "stream",
     "text": [
      "CPU CORES: 9\n"
     ]
    },
    {
     "ename": "NameError",
     "evalue": "name 'bmz' is not defined",
     "output_type": "error",
     "traceback": [
      "\u001b[0;31m---------------------------------------------------------------------------\u001b[0m",
      "\u001b[0;31mNameError\u001b[0m                                 Traceback (most recent call last)",
      "Cell \u001b[0;32mIn[21], line 10\u001b[0m\n\u001b[1;32m      5\u001b[0m num_workers \u001b[38;5;241m=\u001b[39m os\u001b[38;5;241m.\u001b[39mcpu_count() \u001b[38;5;241m*\u001b[39m \u001b[38;5;241m3\u001b[39m \u001b[38;5;241m/\u001b[39m\u001b[38;5;241m/\u001b[39m \u001b[38;5;241m4\u001b[39m \u001b[38;5;66;03m# Use 75% of cores\u001b[39;00m\n\u001b[1;32m      6\u001b[0m \u001b[38;5;28mprint\u001b[39m(\u001b[38;5;124mf\u001b[39m\u001b[38;5;124m\"\u001b[39m\u001b[38;5;124mCPU CORES: \u001b[39m\u001b[38;5;132;01m{\u001b[39;00mnum_workers\u001b[38;5;132;01m}\u001b[39;00m\u001b[38;5;124m\"\u001b[39m)\n\u001b[0;32m---> 10\u001b[0m model \u001b[38;5;241m=\u001b[39m bmz\u001b[38;5;241m.\u001b[39mload(\u001b[38;5;124m'\u001b[39m\u001b[38;5;124mBirdNET\u001b[39m\u001b[38;5;124m'\u001b[39m) \u001b[38;5;66;03m#or bmz.load('Perch')\u001b[39;00m\n\u001b[1;32m     12\u001b[0m fold_num \u001b[38;5;241m=\u001b[39m \u001b[38;5;241m5\u001b[39m \u001b[38;5;66;03m# How many folds\u001b[39;00m\n\u001b[1;32m     13\u001b[0m kf \u001b[38;5;241m=\u001b[39m KFold(n_splits\u001b[38;5;241m=\u001b[39mfold_num, shuffle\u001b[38;5;241m=\u001b[39m\u001b[38;5;28;01mTrue\u001b[39;00m, random_state\u001b[38;5;241m=\u001b[39m\u001b[38;5;241m8\u001b[39m)\n",
      "\u001b[0;31mNameError\u001b[0m: name 'bmz' is not defined"
     ]
    }
   ],
   "source": [
    "# Haven't Ran yet need packages\n",
    "# need Module Open SoundScape\n",
    "\n",
    "# Use maximum cpu's for your device\n",
    "num_workers = os.cpu_count() * 3 // 4 # Use 75% of cores\n",
    "print(f\"CPU CORES: {num_workers}\")\n",
    "\n",
    "\n",
    "\n",
    "model = bmz.load('BirdNET') #or bmz.load('Perch')\n",
    "\n",
    "fold_num = 5 # How many folds\n",
    "kf = KFold(n_splits=fold_num, shuffle=True, random_state=8)\n",
    "\n",
    "ROC_AUC_scores = []\n",
    "\n",
    "for fold_idx, (train_idx, test_idx) in enumerate(kf.split(labels)):\n",
    "    \n",
    "    labels_train = labels.iloc[train_idx] \n",
    "    labels_val = labels.iloc[test_idx]\n",
    "\n",
    "    emb_train = model.embed(labels_train, return_dfs=False, batch_size=4, num_workers=num_workers) # Made Batch Size Smaller, 128 processes everything at once\n",
    "    emb_val = model.embed(labels_val, return_dfs=False, batch_size=4, num_workers=num_workers)\n",
    "    \n",
    "    classes = ['A']\n",
    "    birdnet.change_classes(classes) \n",
    "    \n",
    "    # fit the classification head with embeddings and labels\n",
    "    birdnet.network.fit(emb_train, labels_train.values, emb_val, labels_val.values)\n",
    "\n",
    "    # make predictions by passing the embeddings through the classifier\n",
    "    preds = birdnet.network(torch.tensor(emb_val)).detach()\n",
    "    \n",
    "    # calculate the area under the ROC score\n",
    "    # Scikit-Learn uses Mann-Whitney U test for ROC-AUC score\n",
    "    curr_score = roc_auc_score(labels_val.values, preds, average=None) \n",
    "    ROC_AUC_score.append(curr_score)\n",
    "    \n",
    "    \n",
    "\n",
    "    preds = preds.detach().numpy()\n",
    "    plt.hist(preds[labels_val==True], bins=20,alpha=0.5, label='positives')\n",
    "    plt.hist(preds[labels_val==False], bins=20,alpha=0.5, label='negatives')\n",
    "    plt.title(f\"Fold {fold_idx}\")\n",
    "    plt.legend()\n",
    "    \n",
    "    print('---------------------------')\n",
    "    print(f\"Current Fold: {fold_idx}\")\n",
    "    print(f\"ROC AUC Score: {curr_score}\")"
   ]
  },
  {
   "cell_type": "code",
   "execution_count": null,
   "id": "c8f88185-a3fe-4302-ad69-12e6c19dca02",
   "metadata": {},
   "outputs": [],
   "source": []
  }
 ],
 "metadata": {
  "kernelspec": {
   "display_name": "Python 3 (ipykernel)",
   "language": "python",
   "name": "python3"
  },
  "language_info": {
   "codemirror_mode": {
    "name": "ipython",
    "version": 3
   },
   "file_extension": ".py",
   "mimetype": "text/x-python",
   "name": "python",
   "nbconvert_exporter": "python",
   "pygments_lexer": "ipython3",
   "version": "3.11.8"
  }
 },
 "nbformat": 4,
 "nbformat_minor": 5
}
